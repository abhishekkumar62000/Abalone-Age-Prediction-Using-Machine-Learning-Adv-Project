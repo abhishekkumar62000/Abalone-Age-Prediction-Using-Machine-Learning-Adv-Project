{
 "cells": [
  {
   "cell_type": "code",
   "execution_count": 2,
   "id": "91179b72-2b69-4433-8890-322c7f7b58bf",
   "metadata": {},
   "outputs": [
    {
     "ename": "ModuleNotFoundError",
     "evalue": "No module named 'fastapi'",
     "output_type": "error",
     "traceback": [
      "\u001b[1;31m---------------------------------------------------------------------------\u001b[0m",
      "\u001b[1;31mModuleNotFoundError\u001b[0m                       Traceback (most recent call last)",
      "Cell \u001b[1;32mIn[2], line 1\u001b[0m\n\u001b[1;32m----> 1\u001b[0m \u001b[38;5;28;01mfrom\u001b[39;00m \u001b[38;5;21;01mfastapi\u001b[39;00m \u001b[38;5;28;01mimport\u001b[39;00m FastAPI, HTTPException\n\u001b[0;32m      2\u001b[0m \u001b[38;5;28;01mfrom\u001b[39;00m \u001b[38;5;21;01mpydantic\u001b[39;00m \u001b[38;5;28;01mimport\u001b[39;00m BaseModel\n\u001b[0;32m      3\u001b[0m \u001b[38;5;28;01mimport\u001b[39;00m \u001b[38;5;21;01mjoblib\u001b[39;00m\n",
      "\u001b[1;31mModuleNotFoundError\u001b[0m: No module named 'fastapi'"
     ]
    }
   ],
   "source": [
    "from fastapi import FastAPI, HTTPException\n",
    "from pydantic import BaseModel\n",
    "import joblib\n",
    "import pandas as pd\n",
    "from sklearn.preprocessing import LabelEncoder\n",
    "\n",
    "# Load the best model\n",
    "best_model = joblib.load('best_model.joblib')\n",
    "\n",
    "# Load train data to get feature names for input\n",
    "train_df = pd.read_csv('train.csv')\n",
    "feature_names = train_df.columns.drop(['id', 'Rings'])\n",
    "\n",
    "# Encode Sex feature\n",
    "le = LabelEncoder()\n",
    "train_df['Sex'] = le.fit_transform(train_df['Sex'])\n",
    "sex_encode = {val: key for key, val in enumerate(le.classes_)}\n",
    "\n",
    "# Define FastAPI app:----\n",
    "app = FastAPI()\n",
    "\n",
    "\n",
    "# Define request body model\n",
    "class InputData(BaseModel):\n",
    "    Length: float\n",
    "    Diameter: float\n",
    "    Height: float\n",
    "    WholeWeight: float\n",
    "    ShuckedWeight: float\n",
    "    VisceraWeight: float\n",
    "    ShellWeight: float\n",
    "    Sex: str\n",
    "\n",
    "\n",
    "# Define prediction endpoint\n",
    "@app.post(\"/predict/\")\n",
    "async def predict(input_data: InputData):\n",
    "    try:\n",
    "        # Preprocess input data\n",
    "        sex_mapping = {'male': 'M', 'female': 'F', 'infant': 'I'}\n",
    "        if input_data.Sex.lower() in sex_mapping:\n",
    "            input_data.Sex = sex_mapping[input_data.Sex.lower()]\n",
    "\n",
    "        # Prepare input data\n",
    "        input_values = [input_data.Length, input_data.Diameter, input_data.Height,\n",
    "                        input_data.WholeWeight, input_data.ShuckedWeight,\n",
    "                        input_data.VisceraWeight, input_data.ShellWeight,\n",
    "                        sex_encode[input_data.Sex]]\n",
    "\n",
    "        # Predict rings using the best model\n",
    "        prediction = best_model.predict([input_values])[0]\n",
    "\n",
    "        return {\"Predicted number of rings\": prediction}\n",
    "    except Exception as e:\n",
    "        raise HTTPException(status_code=500, detail=f\"Error occurred: {e}\")\n",
    "\n",
    "\n",
    "# Define root endpoint\n",
    "@app.get(\"/\")\n",
    "def root():\n",
    "    return {\"message\": \"Welcome to the Abalone Rings Prediction API!\"}\n"
   ]
  },
  {
   "cell_type": "code",
   "execution_count": null,
   "id": "7f6efbd4-bbd4-4aaa-9bde-15ca4796d4ef",
   "metadata": {},
   "outputs": [],
   "source": []
  }
 ],
 "metadata": {
  "kernelspec": {
   "display_name": "Python 3 (ipykernel)",
   "language": "python",
   "name": "python3"
  },
  "language_info": {
   "codemirror_mode": {
    "name": "ipython",
    "version": 3
   },
   "file_extension": ".py",
   "mimetype": "text/x-python",
   "name": "python",
   "nbconvert_exporter": "python",
   "pygments_lexer": "ipython3",
   "version": "3.11.7"
  }
 },
 "nbformat": 4,
 "nbformat_minor": 5
}
